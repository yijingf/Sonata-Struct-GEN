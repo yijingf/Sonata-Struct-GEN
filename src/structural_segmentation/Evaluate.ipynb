{
 "cells": [
  {
   "cell_type": "markdown",
   "id": "b4d617e6-23b7-4391-b6ad-6f2c69cd6a5c",
   "metadata": {},
   "source": [
    "# Compare Auto Segmentation with Crawled"
   ]
  },
  {
   "cell_type": "code",
   "execution_count": null,
   "id": "dbc048f1-bb54-4cb6-8489-cb8b2691db34",
   "metadata": {},
   "outputs": [],
   "source": [
    "import os\n",
    "import json\n",
    "import numpy as np\n",
    "import mir_eval\n",
    "from glob import glob\n",
    "from fractions import Fraction\n",
    "\n",
    "import sys\n",
    "sys.path.append(\"..\")\n",
    "\n",
    "from utils.common import load_event\n",
    "from utils.event import expand_score\n",
    "from utils.align import bar_beat_to_t, get_t_bar\n",
    "from struct_segment import get_t_fin, get_signature_shift\n",
    "\n",
    "def get_true_bound_bar(struct):\n",
    "    bound = []\n",
    "    for sect in struct['struct']:\n",
    "        bound += [[entry['start'], entry['end']] for entry in struct['struct'][sect]]\n",
    "    \n",
    "    for i, entry in enumerate(bound[:-1]):\n",
    "        if entry[-1] == bound[i+1][0]:\n",
    "            bound[i][-1] += .5\n",
    "            bound[i+1][0] += .5\n",
    "        else:\n",
    "            bound[i][-1] += 1\n",
    "\n",
    "    true_bound = [i[0] for i in bound] + [bound[-1][-1] + 1]\n",
    "    true_bound = np.array(true_bound) - 1\n",
    "    return true_bound\n",
    "\n",
    "\n",
    "def get_sig_shift(composer, base_name):\n",
    "    event_file = f\"../../sonata-dataset-phrase/event/{composer}/{base_name}\"\n",
    "    score_event, pattern = load_event(event_file)\n",
    "    event, idx_mapping = expand_score(score_event, pattern, repeat_mode=\"no_repeat\")\n",
    "\n",
    "    map_file = f\"../../sonata-dataset-phrase/rendered_midi_no_repeat/{composer}/{base_name}\"\n",
    "    with open(map_file) as f:\n",
    "        ts_shift = json.load(f)['onset']\n",
    "\n",
    "    # Renew end time\n",
    "    t_fin = get_t_fin(max(idx_mapping), ts_shift)\n",
    "    ts_shift.append({\"measure\": max(idx_mapping) + 1, \"t\": float(t_fin),\n",
    "                     \"tempo\": ts_shift[-1]['tempo'],\n",
    "                     \"time_signature\": ts_shift[-1]['time_signature']})\n",
    "\n",
    "    # Split sections by tempo, time/key signature shifts, for refining phrase boundaries\n",
    "    sig_shift = get_signature_shift(event, ts_shift)\n",
    "    return sig_shift\n",
    "\n",
    "def get_true_t_bound(struct, sig_shift):\n",
    "    true_bound = get_true_bound_bar(struct)\n",
    "    \n",
    "    t_bound = []\n",
    "    p = 0\n",
    "    for bar in true_bound:\n",
    "    \n",
    "        if int(bar) == bar:\n",
    "            bar_beat = (int(bar), 0)\n",
    "        else:\n",
    "            while bar > sig_shift[p+1]['measure']:\n",
    "                p += 1\n",
    "            beat = Fraction(sig_shift[p]['time_signature']) * 4 * Fraction(1, 2)\n",
    "            bar_beat = (int(bar), beat)\n",
    "    \n",
    "        t_bound.append(float(bar_beat_to_t(bar_beat, sig_shift)))\n",
    "    t_bound_pair = np.array([t_bound[:-1], t_bound[1:]]).T\n",
    "    return t_bound_pair\n",
    "\n",
    "def get_t_bound(pred_struct, sig_shift):\n",
    "    pred_bound = []\n",
    "    for sect in pred_struct:\n",
    "        pred_bound += [entry[0] for entry in pred_struct[sect]]\n",
    "        pred_bound += [pred_struct[sect][-1][-1]]\n",
    "    \n",
    "    pred_t_bound = []\n",
    "    for entry in pred_bound:\n",
    "        t = float(bar_beat_to_t((entry[0], Fraction(entry[1])), sig_shift))\n",
    "        if not len(pred_t_bound) or t > pred_t_bound[-1]:\n",
    "            pred_t_bound.append(t)\n",
    "    \n",
    "    pred_t_bound_pair = np.array([pred_t_bound[:-1], pred_t_bound[1:]]).T\n",
    "    return pred_t_bound_pair\n",
    "\n",
    "def get_high_level_t_bound(pred_struct, sig_shift):\n",
    "    pred_bound = []\n",
    "    for sect in pred_struct:\n",
    "        pred_bound.append(pred_struct[sect][0][0])\n",
    "    pred_bound += [pred_struct[sect][-1][-1]]\n",
    "\n",
    "    pred_t_bound = []\n",
    "    for entry in pred_bound:\n",
    "        t = float(bar_beat_to_t((entry[0], Fraction(entry[1])), sig_shift))\n",
    "        if not len(pred_t_bound) or t > pred_t_bound[-1]:\n",
    "            pred_t_bound.append(t)\n",
    "    \n",
    "    pred_t_bound_pair = np.array([pred_t_bound[:-1], pred_t_bound[1:]]).T\n",
    "    return pred_t_bound_pair\n",
    "\n",
    "def get_high_level_true_bound(struct, sig_shift):\n",
    "    true_bound = []\n",
    "    for sect in struct['struct']:\n",
    "        true_bound.append(struct['struct'][sect][0]['start'] - 1)\n",
    "    true_bound += [struct['struct'][sect][-1]['end'] - 1]\n",
    "\n",
    "    t_bound = []\n",
    "    p = 0\n",
    "    for bar in true_bound:\n",
    "    \n",
    "        if int(bar) == bar:\n",
    "            bar_beat = (int(bar), 0)\n",
    "        else:\n",
    "            while bar > sig_shift[p+1]['measure']:\n",
    "                p += 1\n",
    "            beat = Fraction(sig_shift[p]['time_signature']) * 4 * Fraction(1, 2)\n",
    "            bar_beat = (int(bar), beat)\n",
    "    \n",
    "        t_bound.append(float(bar_beat_to_t(bar_beat, sig_shift)))\n",
    "    t_bound_pair = np.array([t_bound[:-1], t_bound[1:]]).T\n",
    "    return t_bound_pair"
   ]
  },
  {
   "cell_type": "code",
   "execution_count": null,
   "id": "7bb34d99-1a10-4375-95a2-f621cd65d938",
   "metadata": {},
   "outputs": [],
   "source": [
    "hr_5f_lst, hrf_lst = [], []\n",
    "for composer in ['mozart', 'beethoven']:\n",
    "    for struct_file in sorted(glob(f\"./manually_cleaned/{composer}/*.json\")):\n",
    "        \n",
    "        with open(struct_file) as f:\n",
    "            struct = json.load(f)\n",
    "\n",
    "        base_name = os.path.basename(struct_file)\n",
    "        with open(f\"../../sonata-dataset-phrase/struct_mark/{composer}-{base_name}\") as f:\n",
    "            pred_struct = json.load(f)\n",
    "\n",
    "        sig_shift = get_sig_shift(composer, base_name)\n",
    "        # t_bound = get_true_t_bound(struct, sig_shift)\n",
    "        # pred_t_bound = get_t_bound(pred_struct, sig_shift)\n",
    "\n",
    "        # p_5, r_5, hr_5f = mir_eval.segment.detection(pred_t_bound, t_bound, window=.5)\n",
    "        # p, r, hrf = mir_eval.segment.detection(pred_t_bound, t_bound, window=3)\n",
    "\n",
    "        pred_high_level_t_bound = get_high_level_t_bound(pred_struct, sig_shift)\n",
    "        true_high_level_t_bound = get_high_level_true_bound(struct, sig_shift)\n",
    "\n",
    "        p_5, r_5, hr_5f = mir_eval.segment.detection(pred_high_level_t_bound, true_high_level_t_bound, window=.5)\n",
    "        p, r, hrf = mir_eval.segment.detection(pred_high_level_t_bound, true_high_level_t_bound, window=3)\n",
    "        \n",
    "        hr_5f_lst.append(hr_5f)\n",
    "        hrf_lst.append(hrf)"
   ]
  },
  {
   "cell_type": "code",
   "execution_count": null,
   "id": "82a3f007-40e7-4a40-99fc-b589b7768871",
   "metadata": {},
   "outputs": [],
   "source": [
    "# High level bounds\n",
    "np.mean(hr_5f_lst), np.mean(hrf) \n",
    "# (0.3058518518518519, 0.7499999999999999)"
   ]
  },
  {
   "cell_type": "code",
   "execution_count": null,
   "id": "62e04b03-a922-488b-a28b-6a7f4c2e39f6",
   "metadata": {},
   "outputs": [],
   "source": [
    "# All bounds\n",
    "np.mean(hr_5f_lst), np.mean(hrf)\n",
    "# (0.3149563227792578, 0.45714285714285713)"
   ]
  },
  {
   "cell_type": "code",
   "execution_count": null,
   "id": "b1012061-b283-430c-8214-0f42d6da7857",
   "metadata": {},
   "outputs": [],
   "source": []
  },
  {
   "cell_type": "code",
   "execution_count": null,
   "id": "c67fa353-373b-4970-b9d4-82f23aedaf4c",
   "metadata": {},
   "outputs": [],
   "source": [
    "import json\n",
    "\n",
    "import sys\n",
    "sys.path.append(\"..\")\n",
    "\n",
    "from utils.event import event_to_pm\n",
    "from utils.common import load_event\n",
    "from utils.event import expand_score"
   ]
  },
  {
   "cell_type": "code",
   "execution_count": 2,
   "id": "ff8e23af-1e14-49d9-840d-0c34fcbf38d1",
   "metadata": {},
   "outputs": [],
   "source": []
  },
  {
   "cell_type": "code",
   "execution_count": 2,
   "id": "3b409a25-76ba-4099-ab7d-f07ab3a2aed4",
   "metadata": {},
   "outputs": [],
   "source": []
  },
  {
   "cell_type": "code",
   "execution_count": 3,
   "id": "e498e3e8-aa32-4253-aec8-66b8a051a0e9",
   "metadata": {},
   "outputs": [],
   "source": []
  },
  {
   "cell_type": "code",
   "execution_count": 4,
   "id": "5e164721-c5bc-4400-8d51-e193bb3fb10f",
   "metadata": {},
   "outputs": [],
   "source": []
  },
  {
   "cell_type": "code",
   "execution_count": 7,
   "id": "28b3a576-4c42-41e4-978d-346f09f59534",
   "metadata": {},
   "outputs": [],
   "source": []
  },
  {
   "cell_type": "code",
   "execution_count": 8,
   "id": "7949c841-3a51-4202-b23a-6ea848eec1dd",
   "metadata": {},
   "outputs": [],
   "source": []
  },
  {
   "cell_type": "code",
   "execution_count": 21,
   "id": "b6c5e3fd-c347-45ad-9347-05dfc523076c",
   "metadata": {},
   "outputs": [],
   "source": []
  },
  {
   "cell_type": "code",
   "execution_count": 4,
   "id": "12964ae7-89bc-4998-bf46-10f99a091528",
   "metadata": {},
   "outputs": [],
   "source": [
    "from utils.event import decode_token_to_pm, normalize_tp\n",
    "from utils.decode import decode_ts_tp"
   ]
  },
  {
   "cell_type": "code",
   "execution_count": null,
   "id": "855ce923-e478-45a4-9e0d-1624b62f04ea",
   "metadata": {},
   "outputs": [],
   "source": []
  },
  {
   "cell_type": "code",
   "execution_count": 39,
   "id": "34a4c312-1309-4399-a79c-0380912136e7",
   "metadata": {},
   "outputs": [],
   "source": [
    "with open(\"../../sonata-dataset-phrase/struct/beethoven-sonata01-1.json\") as f:\n",
    "    struct_event = json.load(f)\n",
    "\n",
    "with open(\"../../sonata-dataset-phrase/struct_mark/beethoven-sonata01-1.json\") as f:\n",
    "    struct_bound = json.load(f)"
   ]
  },
  {
   "cell_type": "code",
   "execution_count": 38,
   "id": "8ee68a63-fe30-488d-b5e4-489fb07bf322",
   "metadata": {},
   "outputs": [],
   "source": [
    "from io import BytesIO"
   ]
  },
  {
   "cell_type": "code",
   "execution_count": 35,
   "id": "27db72b0-c583-40b7-874a-bd211b547027",
   "metadata": {},
   "outputs": [],
   "source": [
    "# Phrase Key Analyze\n",
    "struct_analysis = {}\n",
    "for sect_name in struct_event:\n",
    "    struct_analysis[sect_name] = {\"bound\":[], \"key\":\"\"}\n",
    "    \n",
    "    for i_phrase in range(len(struct_event[sect_name])):\n",
    "        ts = struct_event[sect_name][i_phrase]['time_signature']\n",
    "        tp = normalize_tp(struct_event[sect_name][i_phrase]['tempo'])\n",
    "        \n",
    "        tokens = [f\"ts-{ts}\", f\"tp-{tp}\"]\n",
    "        for entry in struct_event[sect_name][i_phrase]['event']:\n",
    "            tokens += entry + ['bar']\n",
    "        \n",
    "        pm = decode_token_to_pm(tokens)\n",
    "    \n",
    "        with BytesIO() as f:\n",
    "            pm.write(f)\n",
    "            f.seek(0)\n",
    "            midi_string = f.read()\n",
    "            \n",
    "        score = music21.midi.translate.midiStringToStream(midi_string)\n",
    "        key = score.analyze('key')"
   ]
  },
  {
   "cell_type": "code",
   "execution_count": 13,
   "id": "c27a3a15-8af6-4cc7-894e-add39bc898b8",
   "metadata": {},
   "outputs": [],
   "source": []
  },
  {
   "cell_type": "code",
   "execution_count": 1,
   "id": "051c2a1a-53d9-4e1a-b41c-d65f3b9a0a13",
   "metadata": {
    "scrolled": true
   },
   "outputs": [],
   "source": [
    "import music21"
   ]
  },
  {
   "cell_type": "code",
   "execution_count": 37,
   "id": "ccd93448-71fe-4eae-ba6a-c2d0f86f4e88",
   "metadata": {},
   "outputs": [
    {
     "name": "stdout",
     "output_type": "stream",
     "text": [
      "0 A- major\n",
      "1 B- minor\n",
      "2 C minor\n",
      "3 A- major\n",
      "4 F minor\n",
      "5 F minor\n",
      "6 F minor\n"
     ]
    }
   ],
   "source": [
    "for i in range(0, 7):\n",
    "    score = music21.converter.parse(f'{sect_name}-phrase-{i}.mid')\n",
    "    key = score.analyze('key')\n",
    "    print(i, key.tonic.name, key.mode)"
   ]
  },
  {
   "cell_type": "code",
   "execution_count": 25,
   "id": "6f1f3220-3368-4964-9b8f-9ffd4a2d238f",
   "metadata": {},
   "outputs": [],
   "source": [
    "with open(\"../../sonata-dataset-phrase/struct_mark/beethoven-sonata01-1.json\") as f:\n",
    "    struct_bound = json.load(f)"
   ]
  },
  {
   "cell_type": "code",
   "execution_count": null,
   "id": "fbf53192-5d57-4575-ab4b-712c44cfb01f",
   "metadata": {
    "scrolled": true
   },
   "outputs": [],
   "source": []
  },
  {
   "cell_type": "code",
   "execution_count": null,
   "id": "ad07216b-b3a6-4fb0-881f-333fc3068035",
   "metadata": {},
   "outputs": [],
   "source": [
    "struct_event, struct_bound = main(composer, file_base, cfg)\n",
    "with open(os.path.join(cfg.data_dir, \"struct\", f\"{composer}-{file_base}.json\"), \"w\") as f:\n",
    "    json.dump(struct_event, f)\n",
    "\n",
    "with open(os.path.join(cfg.data_dir, \"struct_mark\", f\"{composer}-{file_base}.json\"), \"w\") as f:\n",
    "    json.dump(struct_bound, f)"
   ]
  },
  {
   "cell_type": "code",
   "execution_count": null,
   "id": "14da64b7-a2d7-4375-911e-561cfea2d1a5",
   "metadata": {},
   "outputs": [],
   "source": []
  }
 ],
 "metadata": {
  "kernelspec": {
   "display_name": "magenta_env",
   "language": "python",
   "name": "magenta_env"
  },
  "language_info": {
   "codemirror_mode": {
    "name": "ipython",
    "version": 3
   },
   "file_extension": ".py",
   "mimetype": "text/x-python",
   "name": "python",
   "nbconvert_exporter": "python",
   "pygments_lexer": "ipython3",
   "version": "3.8.12"
  }
 },
 "nbformat": 4,
 "nbformat_minor": 5
}
